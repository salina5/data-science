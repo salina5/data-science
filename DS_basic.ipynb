{
 "cells": [
  {
   "cell_type": "markdown",
   "metadata": {},
   "source": [
    "# Arthmetic Operation"
   ]
  },
  {
   "cell_type": "code",
   "execution_count": 1,
   "metadata": {},
   "outputs": [
    {
     "name": "stdout",
     "output_type": "stream",
     "text": [
      "<class 'int'>\n",
      "3\n",
      "4\n",
      "2\n",
      "6\n",
      "0.6\n",
      "9\n"
     ]
    }
   ],
   "source": [
    "x=3\n",
    "\n",
    "print(type(x)) #Data Type\n",
    "print(x)\n",
    "\n",
    "print(x+1) #Addition\n",
    "print(x-1) #Subtraction \n",
    "print(x*2) #Multiplication\n",
    "print(x/5) #Division\n",
    "\n",
    "print(x ** 2)"
   ]
  },
  {
   "cell_type": "code",
   "execution_count": 2,
   "metadata": {},
   "outputs": [
    {
     "name": "stdout",
     "output_type": "stream",
     "text": [
      "4\n"
     ]
    }
   ],
   "source": [
    "x +=1\n",
    "print(x)   "
   ]
  },
  {
   "cell_type": "code",
   "execution_count": 3,
   "metadata": {},
   "outputs": [
    {
     "name": "stdout",
     "output_type": "stream",
     "text": [
      "8\n"
     ]
    }
   ],
   "source": [
    "x*=2\n",
    "print(x)"
   ]
  },
  {
   "cell_type": "code",
   "execution_count": 4,
   "metadata": {},
   "outputs": [
    {
     "name": "stdout",
     "output_type": "stream",
     "text": [
      "<class 'float'>\n"
     ]
    }
   ],
   "source": [
    "x=3.4\n",
    "\n",
    "print(type(x))"
   ]
  },
  {
   "cell_type": "code",
   "execution_count": 5,
   "metadata": {},
   "outputs": [
    {
     "name": "stdout",
     "output_type": "stream",
     "text": [
      "<class 'str'>\n"
     ]
    }
   ],
   "source": [
    "x=\"Salina\"\n",
    "print(type(x))"
   ]
  },
  {
   "cell_type": "code",
   "execution_count": 6,
   "metadata": {},
   "outputs": [
    {
     "name": "stdout",
     "output_type": "stream",
     "text": [
      "5 27 3 12 100 8\n"
     ]
    }
   ],
   "source": [
    "x=10 \n",
    "y=5\n",
    "z=9\n",
    "print(y,z*3,y-2,z+3,x**2,y+3)"
   ]
  },
  {
   "cell_type": "markdown",
   "metadata": {},
   "source": [
    "# Boolean "
   ]
  },
  {
   "cell_type": "code",
   "execution_count": 8,
   "metadata": {},
   "outputs": [
    {
     "name": "stdout",
     "output_type": "stream",
     "text": [
      "<class 'bool'>\n",
      "False\n"
     ]
    }
   ],
   "source": [
    "\n",
    "\n",
    "t=True\n",
    "f=False\n",
    "\n",
    "print(type(t))\n",
    "print(t and f)  "
   ]
  },
  {
   "cell_type": "code",
   "execution_count": 9,
   "metadata": {},
   "outputs": [],
   "source": [
    "#AND \n",
    "\n",
    "#1 1=1\n",
    "#1 0=0\n",
    "#0 1=0\n",
    "#0 0=0"
   ]
  },
  {
   "cell_type": "code",
   "execution_count": 10,
   "metadata": {},
   "outputs": [
    {
     "name": "stdout",
     "output_type": "stream",
     "text": [
      "True\n"
     ]
    }
   ],
   "source": [
    "print(t or f)  "
   ]
  },
  {
   "cell_type": "code",
   "execution_count": 11,
   "metadata": {},
   "outputs": [
    {
     "name": "stdout",
     "output_type": "stream",
     "text": [
      "False\n"
     ]
    }
   ],
   "source": [
    "print(not t)"
   ]
  },
  {
   "cell_type": "code",
   "execution_count": 12,
   "metadata": {},
   "outputs": [
    {
     "name": "stdout",
     "output_type": "stream",
     "text": [
      "True\n"
     ]
    }
   ],
   "source": [
    "print(t != f)"
   ]
  },
  {
   "cell_type": "markdown",
   "metadata": {},
   "source": [
    "# String"
   ]
  },
  {
   "cell_type": "code",
   "execution_count": 13,
   "metadata": {},
   "outputs": [
    {
     "name": "stdout",
     "output_type": "stream",
     "text": [
      "SALINA\n",
      "BAGWAN\n"
     ]
    }
   ],
   "source": [
    "stud=\"SALINA\"\n",
    "\n",
    "Make=\"BAGWAN\"\n",
    "\n",
    "print(stud)\n",
    "print(Make)"
   ]
  },
  {
   "cell_type": "code",
   "execution_count": 16,
   "metadata": {},
   "outputs": [
    {
     "name": "stdout",
     "output_type": "stream",
     "text": [
      "SALINA  her surname is  BAGWAN\n"
     ]
    }
   ],
   "source": [
    "#print(len(Rack))\n",
    "cm=stud +\"  her surname is  \"+ Make\n",
    "print(cm)"
   ]
  },
  {
   "cell_type": "code",
   "execution_count": 18,
   "metadata": {},
   "outputs": [
    {
     "name": "stdout",
     "output_type": "stream",
     "text": [
      "SALINA BAGWAN 50\n"
     ]
    }
   ],
   "source": [
    "sam=\"%s %s %d\" %(stud,Make,50)\n",
    "print(sam)"
   ]
  },
  {
   "cell_type": "code",
   "execution_count": 19,
   "metadata": {},
   "outputs": [
    {
     "name": "stdout",
     "output_type": "stream",
     "text": [
      "Arya\n",
      "Seli\n",
      "SELI\n",
      "                                              arya\n",
      "                                                               arya                                                               \n",
      "seli\n",
      "Selin\n",
      "              Selin\n"
     ]
    }
   ],
   "source": [
    "s=\"arya\"\n",
    "d=\"seli\"\n",
    "\n",
    "print(s.capitalize())\n",
    "print(d.capitalize())\n",
    "print(d.upper())\n",
    "print(s.rjust(50))\n",
    "\n",
    "print(s.center(130))\n",
    "\n",
    "print(d.replace(\"r\",\"m\"))\n",
    "print(\"              Selin\".strip())\n",
    "print(\"              Selin\")"
   ]
  },
  {
   "cell_type": "code",
   "execution_count": null,
   "metadata": {},
   "outputs": [],
   "source": []
  }
 ],
 "metadata": {
  "kernelspec": {
   "display_name": "Python 3",
   "language": "python",
   "name": "python3"
  },
  "language_info": {
   "codemirror_mode": {
    "name": "ipython",
    "version": 3
   },
   "file_extension": ".py",
   "mimetype": "text/x-python",
   "name": "python",
   "nbconvert_exporter": "python",
   "pygments_lexer": "ipython3",
   "version": "3.7.6"
  }
 },
 "nbformat": 4,
 "nbformat_minor": 4
}
